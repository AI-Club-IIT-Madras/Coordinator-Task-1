{
  "nbformat": 4,
  "nbformat_minor": 0,
  "metadata": {
    "colab": {
      "provenance": []
    },
    "kernelspec": {
      "name": "python3",
      "display_name": "Python 3"
    },
    "language_info": {
      "name": "python"
    }
  },
  "cells": [
    {
      "cell_type": "code",
      "execution_count": null,
      "metadata": {
        "id": "9Rou2hE-lSqj"
      },
      "outputs": [],
      "source": [
        "import pandas as pd\n",
        "import matplotlib.pyplot as plt\n",
        "import seaborn as sns\n",
        "import numpy as np\n"
      ]
    },
    {
      "cell_type": "code",
      "source": [
        "df = pd.read_csv('IPL_train_ dataset 2008-2021.csv') #the path of the csv file may be different for you change it accordingly"
      ],
      "metadata": {
        "id": "SDKGitxsBT6s"
      },
      "execution_count": null,
      "outputs": []
    },
    {
      "cell_type": "code",
      "source": [
        "df.replace(to_replace=\"RCB\", value=\"Royal Challengers Bangalore\",inplace=True)\n",
        "df.replace(to_replace=\"Capitals\", value=\"Delhi Capitals\",inplace=True)\n",
        "df.replace(to_replace=\"KKR\", value=\"Kolkata Knight Riders\",inplace=True)\n",
        "df.replace(to_replace=\"Punjab\", value=\"Punjab Kings\",inplace=True)\n",
        "df.replace(to_replace=\"Mumbai\", value=\"Mumbai Indians\",inplace=True)\n",
        "df.replace(to_replace=\"Royals\", value=\"Rajasthan Royals\",inplace=True)\n",
        "df.replace(to_replace=\"Super\", value=\"Chennai Super Kings\",inplace=True)\n",
        "df.replace(to_replace=\"Sunrisers\", value=\"Sunrisers Hyderabad\",inplace=True)\n",
        "df.replace(to_replace=\"Kings\", value=\"Kings XI Punjab\",inplace=True)\n",
        "df.replace(to_replace=\"Daredevils\", value=\"Delhi Daredevils\",inplace=True)\n",
        "df.replace(to_replace=[\"Supergiant\",\"Supergiants\"], value=\"Rising Pune Supergiants\",inplace=True)\n",
        "df.replace(to_replace=\"Guj\", value=\"Gujarat Lions\",inplace=True)\n",
        "df.replace(to_replace=\"Warriors\", value=\"Pune Warriors\",inplace=True)\n",
        "df.replace(to_replace=\"Chargers\", value=\"Deccan Chargers\",inplace=True)\n",
        "df.replace(to_replace=\"Kochi\", value=\"Kochi Tuskers Kerala\",inplace=True)"
      ],
      "metadata": {
        "id": "_Arl5TFpEVB3"
      },
      "execution_count": null,
      "outputs": []
    },
    {
      "cell_type": "code",
      "source": [
        "no_of_rows_dropped = 0\n",
        "for i in range (df.shape[0]):\n",
        "  if (df['margin'][i]=='Tied' or df['margin'][i]=='No result' or df['margin'][i]=='Match abandoned without a ball bowled'):\n",
        "    df = df.drop(i)\n",
        "    no_of_rows_dropped += 1\n",
        "  elif (str(df['team1_score'][i])=='nan'):\n",
        "    df = df.drop(i)\n",
        "    no_of_rows_dropped += 1\n",
        "  elif (str(df['team2_score'][i])=='nan'):\n",
        "    df = df.drop(i)\n",
        "    no_of_rows_dropped +=1\n",
        "\n",
        "print(no_of_rows_dropped)\n",
        "print(i)"
      ],
      "metadata": {
        "id": "Q6RVKPLbEa8C"
      },
      "execution_count": null,
      "outputs": []
    },
    {
      "cell_type": "code",
      "source": [
        "df.reset_index(drop=True, inplace=True)\n",
        "clean_df = df"
      ],
      "metadata": {
        "id": "sKR7yrNdEc0c"
      },
      "execution_count": null,
      "outputs": []
    },
    {
      "cell_type": "code",
      "source": [
        "plt.figure(figsize=(12,6))\n",
        "data = df.winner.value_counts()\n",
        "sns.barplot(y = data.index, x = data, orient='h')\n",
        "plt.show()"
      ],
      "metadata": {
        "id": "AtFsphlXP-fk"
      },
      "execution_count": null,
      "outputs": []
    },
    {
      "cell_type": "code",
      "source": [
        "bat_1st_df = df[df['margin'].str.contains('run', case=False)]\n",
        "bat_2nd_df = df[df['margin'].str.contains('wicket', case=False)]\n",
        "\n",
        "sizes = [len(bat_1st_df), len(bat_2nd_df)]\n",
        "labels = ['Batting First', 'Batting Second']\n",
        "\n",
        "plt.pie(sizes, labels=labels, autopct='%1.1f%%')\n",
        "plt.show()"
      ],
      "metadata": {
        "id": "GtwptsyiZdUI"
      },
      "execution_count": null,
      "outputs": []
    },
    {
      "cell_type": "code",
      "source": [
        "frequency = df['man_of_the_match'].value_counts().sort_values(ascending=False)\n",
        "frequency"
      ],
      "metadata": {
        "id": "oGqcQzUBQzFt"
      },
      "execution_count": null,
      "outputs": []
    },
    {
      "cell_type": "code",
      "source": [
        "top_10 = frequency.head(10)\n",
        "plt.barh(top_10.index, top_10.values)\n",
        "plt.xlabel('Frequency')\n",
        "plt.ylabel('Values')\n",
        "plt.title('Top 10 MOTM awardees')\n",
        "for i, v in enumerate(top_10.values):\n",
        "    plt.text(v, i, str(v), ha='left', va='center')\n",
        "plt.show()"
      ],
      "metadata": {
        "id": "gPoq_sDWo_YW"
      },
      "execution_count": null,
      "outputs": []
    },
    {
      "cell_type": "code",
      "source": [
        "matches_per_year = df.groupby('year ').size()\n",
        "matches_per_year.plot(kind='bar', figsize=(10, 6))\n",
        "plt.xlabel('Year')\n",
        "plt.ylabel('Number of Matches')\n",
        "plt.title('Number of Matches Played per Year')\n",
        "for i, v in enumerate(matches_per_year.values):\n",
        "    plt.text(i, v, str(v), ha='center', va='bottom')\n",
        "plt.show()"
      ],
      "metadata": {
        "id": "Z12naLI0ZfxB"
      },
      "execution_count": null,
      "outputs": []
    },
    {
      "cell_type": "code",
      "source": [
        "matches_per_stadium = df['stadium'].value_counts().sort_index()\n",
        "fig, ax = plt.subplots(figsize=(12, 8)) \n",
        "plt.plot(matches_per_stadium.index, matches_per_stadium.values, marker='o', linestyle='-')\n",
        "plt.xlabel('Stadium')\n",
        "plt.ylabel('Number of Matches')\n",
        "plt.title('Number of Matches Played per Year')\n",
        "for x, y in zip(matches_per_stadium.index, matches_per_stadium.values):\n",
        "    plt.text(x, y, str(y), ha='center', va='bottom', fontsize=13)\n",
        "plt.xticks(rotation=90)\n",
        "plt.grid(False)\n",
        "plt.show()"
      ],
      "metadata": {
        "id": "Yv-es3RmZciu"
      },
      "execution_count": null,
      "outputs": []
    },
    {
      "cell_type": "code",
      "source": [
        "df_sorted = df.sort_values(by=\"stadium\")\n",
        "\n",
        "# Calculate the average of \"Team1_Score\" for each stadium\n",
        "average_scores = df_sorted.groupby(\"stadium\")[\"team1_score\"].mean()\n",
        "\n",
        "# Plotting the line graph\n",
        "plt.figure(figsize=(10, 6))\n",
        "plt.plot(average_scores.index, average_scores.values, marker=\"o\", color=\"green\")\n",
        "\n",
        "# Display the average score over each marker\n",
        "for x, y in average_scores.items():\n",
        "    plt.text(x, y, str(round(y, 2)), ha=\"left\", va=\"center\" , fontsize = 8)\n",
        "\n",
        "# Set the graph title and labels\n",
        "plt.title(\"Average Team 1 Score by Stadium\")\n",
        "plt.xlabel(\"Stadium\")\n",
        "plt.ylabel(\"Average Team 1 Score\")\n",
        "plt.xticks(rotation=90)\n",
        "\n",
        "# Display the graph\n",
        "plt.show()"
      ],
      "metadata": {
        "id": "l2SWAGfIZgWF"
      },
      "execution_count": null,
      "outputs": []
    },
    {
      "cell_type": "code",
      "source": [
        "last_rows = df.groupby('year ').last()\n",
        "plt.figure(figsize=(10, 6))  \n",
        "value_counts = last_rows['winner'].value_counts()\n",
        "bars = value_counts.plot(kind='bar')\n",
        "plt.xlabel('Winner')\n",
        "plt.ylabel('Frequency')\n",
        "plt.title('IPL Winners')\n",
        "plt.xticks(rotation=45)  \n",
        "for i, v in enumerate(value_counts):\n",
        "    bars.text(i, v, str(v), ha='center', va='bottom')\n",
        "\n",
        "plt.tight_layout()\n",
        "plt.show()"
      ],
      "metadata": {
        "id": "EIpo2n1_Zf9z"
      },
      "execution_count": null,
      "outputs": []
    },
    {
      "cell_type": "code",
      "source": [
        "for i in range (len(clean_df)):\n",
        "  if clean_df['stadium'][i] =='Wankhede Stadium':\n",
        "    clean_df['stadium'][i]= 1.01\n",
        "  elif clean_df['stadium'][i] =='Dr DY Patil Sports Academy':\n",
        "    clean_df['stadium'][i] = 1.02\n",
        "  elif clean_df['stadium'][i] =='Brabourne Stadium':\n",
        "    clean_df['stadium'][i] = 1.03\n",
        "  elif clean_df['stadium'][i] =='Maharashtra Cricket Association Stadium':\n",
        "    clean_df['stadium'][i] = 1.04\n",
        "  elif clean_df['stadium'][i] == 'Narendra Modi Stadium':\n",
        "    clean_df['stadium'][i] = 1.05\n",
        "  else:\n",
        "    clean_df['stadium'][i] = 0\n",
        "\n",
        "print(clean_df)"
      ],
      "metadata": {
        "id": "a4IhDfIJnPQC"
      },
      "execution_count": null,
      "outputs": []
    },
    {
      "cell_type": "code",
      "source": [
        "RCB_df = clean_df.loc[((clean_df['team1'] == 'Royal Challengers Bangalore') | (clean_df['team2'] == 'Royal Challengers Bangalore'))]"
      ],
      "metadata": {
        "id": "it5FVXmPEL9A"
      },
      "execution_count": null,
      "outputs": []
    },
    {
      "cell_type": "code",
      "source": [
        "RCB_df.head(10)"
      ],
      "metadata": {
        "id": "55p_69CzxGI9"
      },
      "execution_count": null,
      "outputs": []
    },
    {
      "cell_type": "code",
      "source": [
        "RCB_df.drop(columns =['margin','man_of_the_match','winner','place'], axis=1, inplace=True)"
      ],
      "metadata": {
        "id": "EL48Znn3xGb6"
      },
      "execution_count": null,
      "outputs": []
    },
    {
      "cell_type": "code",
      "source": [
        "RCB_df.reset_index(inplace = True)"
      ],
      "metadata": {
        "id": "sAL02CHBIZkd"
      },
      "execution_count": null,
      "outputs": []
    },
    {
      "cell_type": "code",
      "source": [
        "len(RCB_df['team1'].values)"
      ],
      "metadata": {
        "id": "ZVA9bz7jIiTO"
      },
      "execution_count": null,
      "outputs": []
    },
    {
      "cell_type": "code",
      "source": [
        "team_score = []\n",
        "for i in range(len(RCB_df)):\n",
        "  if RCB_df['team1'].values[i] == 'Royal Challengers Bangalore':\n",
        "    team_score.append(RCB_df['team1_score'].values[i])\n",
        "  else:\n",
        "    team_score.append(RCB_df['team2_score'].values[i])\n"
      ],
      "metadata": {
        "id": "y4c5T_6uFLDJ"
      },
      "execution_count": null,
      "outputs": []
    },
    {
      "cell_type": "code",
      "source": [
        "team_score"
      ],
      "metadata": {
        "id": "z8P8RkR2FLOl"
      },
      "execution_count": null,
      "outputs": []
    },
    {
      "cell_type": "code",
      "source": [
        "RCB_df.drop(columns =['team1_score','team2_score','index'], axis=1, inplace=True)"
      ],
      "metadata": {
        "id": "juEr5melJqvD"
      },
      "execution_count": null,
      "outputs": []
    },
    {
      "cell_type": "code",
      "source": [
        "RCB_df"
      ],
      "metadata": {
        "id": "ui9xTJ8iKLkX"
      },
      "execution_count": null,
      "outputs": []
    },
    {
      "cell_type": "code",
      "source": [
        "for i in range(len(RCB_df)):\n",
        "  if RCB_df['toss_winner'].values[i] == 'Royal Challengers Bangalore':\n",
        "    RCB_df['toss_winner'].values[i] = 1\n",
        "  else:\n",
        "    RCB_df['toss_winner'].values[i] = 0"
      ],
      "metadata": {
        "id": "rCkW6-niKLrS"
      },
      "execution_count": null,
      "outputs": []
    },
    {
      "cell_type": "code",
      "source": [
        "RCB_df"
      ],
      "metadata": {
        "id": "Y7jC823eK9-s"
      },
      "execution_count": null,
      "outputs": []
    },
    {
      "cell_type": "code",
      "source": [
        "opponent_team = []\n",
        "for i in range(len(RCB_df)):\n",
        "  if RCB_df['team1'].values[i] != 'Royal Challengers Bangalore':\n",
        "    opponent_team.append(RCB_df['team1'].values[i])\n",
        "  else:\n",
        "    opponent_team.append(RCB_df['team2'].values[i])"
      ],
      "metadata": {
        "id": "1mRPOX_9Ogsj"
      },
      "execution_count": null,
      "outputs": []
    },
    {
      "cell_type": "code",
      "source": [
        "RCB_df['Opponent_Team'] = opponent_team"
      ],
      "metadata": {
        "id": "dum_PAsYO41O"
      },
      "execution_count": null,
      "outputs": []
    },
    {
      "cell_type": "code",
      "source": [
        "RCB_df.drop(columns =['team1','team2'], axis=1, inplace=True)"
      ],
      "metadata": {
        "id": "6vaYS0bDPETg"
      },
      "execution_count": null,
      "outputs": []
    },
    {
      "cell_type": "code",
      "source": [
        "RCB_df"
      ],
      "metadata": {
        "id": "_at1najkPWNR"
      },
      "execution_count": null,
      "outputs": []
    },
    {
      "cell_type": "code",
      "source": [
        "RCB_df['RCB score'] = team_score"
      ],
      "metadata": {
        "id": "tsS3nlblPY9V"
      },
      "execution_count": null,
      "outputs": []
    },
    {
      "cell_type": "code",
      "source": [
        "RCB_df "
      ],
      "metadata": {
        "id": "XrWiuo3TP_oJ"
      },
      "execution_count": null,
      "outputs": []
    },
    {
      "cell_type": "code",
      "source": [
        "for i in range(len(RCB_df)):\n",
        "  if RCB_df['toss_choice'].values[i] == 'Bat':\n",
        "    RCB_df['toss_choice'].values[i] = 1\n",
        "  else:\n",
        "    RCB_df['toss_choice'].values[i] = 0"
      ],
      "metadata": {
        "id": "JJwX3gXyT6Sl"
      },
      "execution_count": null,
      "outputs": []
    },
    {
      "cell_type": "code",
      "source": [
        "print(RCB_df)"
      ],
      "metadata": {
        "id": "4oj37MvTT6yw"
      },
      "execution_count": null,
      "outputs": []
    },
    {
      "cell_type": "code",
      "source": [
        "RCB_df.replace(to_replace=\"Pune Warriors\", value=1.10,inplace=True)\n",
        "RCB_df.replace(to_replace=\"Deccan Chargers\", value=1.17,inplace=True)\n",
        "RCB_df.replace(to_replace=\"Kolkata Knight Riders\", value=1.12,inplace=True)\n",
        "RCB_df.replace(to_replace=\"Punjab Kings\", value=1.13,inplace=True)\n",
        "RCB_df.replace(to_replace=\"Mumbai Indians\", value=1.14,inplace=True)\n",
        "RCB_df.replace(to_replace=\"Kochi Tuskers Kerala\", value=1.15,inplace=True)\n",
        "RCB_df.replace(to_replace=\"Chennai Super Kings\", value=1.16,inplace=True)\n",
        "RCB_df.replace(to_replace=\"Sunrisers Hyderabad\", value=1.17,inplace=True)\n",
        "RCB_df.replace(to_replace=\"Kings XI Punjab\", value=1.13,inplace=True)\n",
        "RCB_df.replace(to_replace=\"Rising Pune Supergiants\", value=1.19,inplace=True)\n",
        "RCB_df.replace(to_replace=\"Rising Pune Supergiant\", value=1.19,inplace=True)\n",
        "RCB_df.replace(to_replace=\"Gujarat Lions\", value=1.20,inplace=True)\n",
        "RCB_df.replace(to_replace=\"Royal Challengers Bangalore\", value=1.21,inplace=True)\n",
        "RCB_df.replace(to_replace=\"Delhi Capitals\", value=1.22,inplace=True)\n",
        "RCB_df.replace(to_replace=\"Rajasthan Royals\", value=1.23,inplace=True)\n",
        "RCB_df.replace(to_replace=\"Delhi Daredevils\", value=1.22,inplace=True)\n",
        "\n"
      ],
      "metadata": {
        "id": "N5mVJVqPT65J"
      },
      "execution_count": null,
      "outputs": []
    },
    {
      "cell_type": "code",
      "source": [
        "print(RCB_df)"
      ],
      "metadata": {
        "id": "4u3snbJQT6_T"
      },
      "execution_count": null,
      "outputs": []
    },
    {
      "cell_type": "code",
      "source": [
        "RCB_X = RCB_df[['toss_winner', 'toss_choice', 'stadium', 'Opponent_Team']].to_numpy()\n",
        "\n",
        "print(RCB_X)\n",
        "print(RCB_X.shape)"
      ],
      "metadata": {
        "id": "peE_Axjgs7bx"
      },
      "execution_count": null,
      "outputs": []
    },
    {
      "cell_type": "code",
      "source": [
        "RCB_Y = RCB_df[['RCB score']].to_numpy()"
      ],
      "metadata": {
        "id": "PrGBCi5L25X4"
      },
      "execution_count": null,
      "outputs": []
    },
    {
      "cell_type": "code",
      "source": [
        "num_rows = int(0.2 * RCB_X.shape[0])\n",
        "\n",
        "# Separate the last 20% of the rows into a new array\n",
        "RCB_val_X= RCB_X[-num_rows:]\n",
        "RCB_val_Y= RCB_Y[-num_rows:]\n",
        "\n",
        "for i in range (len(RCB_X)-1,len(RCB_X)-num_rows-1,-1):\n",
        "  RCB_X = np.delete(RCB_X,[i], axis=0)\n",
        "  RCB_Y = np.delete(RCB_Y,[i], axis=0)\n",
        "\n",
        "print(RCB_val_X.shape)\n",
        "print(RCB_X.shape)"
      ],
      "metadata": {
        "id": "RWJjlkswxZ07"
      },
      "execution_count": null,
      "outputs": []
    },
    {
      "cell_type": "code",
      "source": [
        "print(RCB_Y.shape)\n",
        "print(RCB_val_Y.shape)"
      ],
      "metadata": {
        "id": "tbdcYOnx8XJP"
      },
      "execution_count": null,
      "outputs": []
    },
    {
      "cell_type": "code",
      "source": [
        "w = np.random.rand(4, 1)\n",
        "b = 10\n",
        "\n",
        "lr = 0.000001\n",
        "for i in range (100000):\n",
        "\n",
        "  Y = np.dot(RCB_X,w) + b \n",
        "\n",
        "  L=np.sum((Y-RCB_Y)**2)\n",
        "\n",
        "  if (i%10000)==0:\n",
        "    print(L)\n",
        "\n",
        "  for j in range (4):\n",
        "    w[j]-=lr*(np.sum(2*(np.multiply(RCB_X[j],(Y-RCB_Y)))))\n",
        "  \n",
        "  b-=lr*np.sum(Y-RCB_Y)\n",
        "\n",
        "\n",
        "  "
      ],
      "metadata": {
        "id": "11j3NH6y1ptn"
      },
      "execution_count": null,
      "outputs": []
    },
    {
      "cell_type": "code",
      "source": [
        "#Validation\n",
        "Y_val =  np.dot(RCB_val_X,w) + b\n",
        "\n",
        "comparision = np.concatenate((RCB_val_Y, Y_val), axis=1)\n",
        "\n",
        "print(comparision)"
      ],
      "metadata": {
        "id": "GPCYI9ee2OK3"
      },
      "execution_count": null,
      "outputs": []
    },
    {
      "cell_type": "code",
      "source": [
        "def model(clean_df,name):\n",
        "  RCB_df = clean_df.loc[((clean_df['team1'] == name) | (clean_df['team2'] == name))]\n",
        "\n",
        "  RCB_df.drop(columns =['margin','man_of_the_match','winner','place'], axis=1, inplace=True)\n",
        "\n",
        "  RCB_df.reset_index(inplace = True)\n",
        "\n",
        "  team_score = []\n",
        "  for i in range(len(RCB_df)):\n",
        "    if RCB_df['team1'].values[i] == name:\n",
        "      team_score.append(RCB_df['team1_score'].values[i])\n",
        "    else:\n",
        "      team_score.append(RCB_df['team2_score'].values[i])\n",
        "\n",
        "  RCB_df.drop(columns =['team1_score','team2_score','index'], axis=1, inplace=True)\n",
        "  #\n",
        "  for i in range(len(RCB_df)):\n",
        "    if RCB_df['toss_winner'].values[i] == name:\n",
        "      RCB_df['toss_winner'].values[i] = 1\n",
        "    else:\n",
        "      RCB_df['toss_winner'].values[i] = 0\n",
        "  #\n",
        "  opponent_team = []\n",
        "  for i in range(len(RCB_df)):\n",
        "    if RCB_df['team1'].values[i] != name:\n",
        "      opponent_team.append(RCB_df['team1'].values[i])\n",
        "    else:\n",
        "      opponent_team.append(RCB_df['team2'].values[i])\n",
        "\n",
        "  RCB_df['Opponent_Team'] = opponent_team\n",
        "\n",
        "  RCB_df.drop(columns =['team1','team2'], axis=1, inplace=True)\n",
        "\n",
        "  RCB_df['RCB score'] = team_score\n",
        "  #\n",
        "  for i in range(len(RCB_df)):\n",
        "    if RCB_df['toss_choice'].values[i] == 'Bat':\n",
        "      RCB_df['toss_choice'].values[i] = 1\n",
        "    else:\n",
        "      RCB_df['toss_choice'].values[i] = 0\n",
        "  #\n",
        "  RCB_df.replace(to_replace=\"Pune Warriors\", value=1.10,inplace=True)\n",
        "  RCB_df.replace(to_replace=\"Deccan Chargers\", value=1.17,inplace=True)\n",
        "  RCB_df.replace(to_replace=\"Kolkata Knight Riders\", value=1.12,inplace=True)\n",
        "  RCB_df.replace(to_replace=\"Punjab Kings\", value=1.13,inplace=True)\n",
        "  RCB_df.replace(to_replace=\"Mumbai Indians\", value=1.14,inplace=True)\n",
        "  RCB_df.replace(to_replace=\"Kochi Tuskers Kerala\", value=1.15,inplace=True)\n",
        "  RCB_df.replace(to_replace=\"Chennai Super Kings\", value=1.16,inplace=True)\n",
        "  RCB_df.replace(to_replace=\"Sunrisers Hyderabad\", value=1.17,inplace=True)\n",
        "  RCB_df.replace(to_replace=\"Kings XI Punjab\", value=1.13,inplace=True)\n",
        "  RCB_df.replace(to_replace=\"Rising Pune Supergiants\", value=1.19,inplace=True)\n",
        "  RCB_df.replace(to_replace=\"Rising Pune Supergiant\", value=1.19,inplace=True)\n",
        "  RCB_df.replace(to_replace=\"Gujarat Lions\", value=1.20,inplace=True)\n",
        "  RCB_df.replace(to_replace=\"Royal Challengers Bangalore\", value=1.21,inplace=True)\n",
        "  RCB_df.replace(to_replace=\"Delhi Capitals\", value=1.22,inplace=True)\n",
        "  RCB_df.replace(to_replace=\"Rajasthan Royals\", value=1.23,inplace=True)\n",
        "  RCB_df.replace(to_replace=\"Delhi Daredevils\", value=1.22,inplace=True)\n",
        "\n",
        "\n",
        " \n",
        "\n",
        "  RCB_X = RCB_df[['toss_winner', 'toss_choice', 'stadium', 'Opponent_Team']].to_numpy()\n",
        "\n",
        "  RCB_Y = RCB_df[['RCB score']].to_numpy()\n",
        "\n",
        "  w = np.random.rand(4, 1)\n",
        "  b = 10\n",
        "\n",
        "  lr = 0.00000001\n",
        "  for i in range (100000):\n",
        "\n",
        "    Y = np.dot(RCB_X,w) + b \n",
        "\n",
        "    L=np.sum((Y-RCB_Y)**2)\n",
        "\n",
        "    if (i%10000)==0:\n",
        "      print(L)\n",
        "\n",
        "    for j in range (4):\n",
        "      w[j]-=lr*(np.sum(2*(np.multiply(RCB_X[j],(Y-RCB_Y)))))\n",
        "    \n",
        "    b-=lr*np.sum(Y-RCB_Y)\n",
        "  \n",
        "\n",
        "  return w,b"
      ],
      "metadata": {
        "id": "A9ekXbDCFLWw"
      },
      "execution_count": null,
      "outputs": []
    },
    {
      "cell_type": "code",
      "source": [
        "w_MI,b_MI = model(clean_df,\"Mumbai Indians\")"
      ],
      "metadata": {
        "id": "_EYEmdr2FLe9"
      },
      "execution_count": null,
      "outputs": []
    },
    {
      "cell_type": "code",
      "source": [
        "w_KKR, b_KKR = model(clean_df,\"Kolkata Knight Riders\")"
      ],
      "metadata": {
        "id": "JagN4YzrSbEu"
      },
      "execution_count": null,
      "outputs": []
    },
    {
      "cell_type": "code",
      "source": [
        "w_CSK, b_CSK = model(clean_df,\"Chennai Super Kings\")"
      ],
      "metadata": {
        "id": "-Uga3K1LVYwC"
      },
      "execution_count": null,
      "outputs": []
    },
    {
      "cell_type": "code",
      "source": [
        "w_RR, b_RR = model(clean_df,\"Rajasthan Royals\")"
      ],
      "metadata": {
        "id": "P4RPYENcVvVu"
      },
      "execution_count": null,
      "outputs": []
    },
    {
      "cell_type": "code",
      "source": [
        "w_DC,b_DC = model(clean_df,\"Delhi Capitals\")"
      ],
      "metadata": {
        "id": "iKccp8ElWDp-"
      },
      "execution_count": null,
      "outputs": []
    },
    {
      "cell_type": "code",
      "source": [
        "w_PK , b_PK = model(clean_df,\"Punjab Kings\")"
      ],
      "metadata": {
        "id": "agQk65WZWcr9"
      },
      "execution_count": null,
      "outputs": []
    },
    {
      "cell_type": "code",
      "source": [
        "w_SRH,b_SRH = model(clean_df,\"Sunrisers Hyderabad\")"
      ],
      "metadata": {
        "id": "vMxuPaK-W2cQ"
      },
      "execution_count": null,
      "outputs": []
    },
    {
      "cell_type": "code",
      "source": [
        "w_RCB,b_RCB = model(clean_df,\"Royal Challengers Bangalore\")"
      ],
      "metadata": {
        "id": "96pdfkhAXHg5"
      },
      "execution_count": null,
      "outputs": []
    },
    {
      "cell_type": "code",
      "source": [
        "raw_test_df = pd.read_csv('Test_dataset.csv')"
      ],
      "metadata": {
        "id": "j-Y4RvWeXVS1"
      },
      "execution_count": null,
      "outputs": []
    },
    {
      "cell_type": "code",
      "source": [
        "raw_test_df.replace(to_replace=\"RCB\", value=\"Royal Challengers Bangalore\",inplace=True)\n",
        "raw_test_df.replace(to_replace=\"Capitals\", value=\"Delhi Capitals\",inplace=True)\n",
        "raw_test_df.replace(to_replace=\"KKR\", value=\"Kolkata Knight Riders\",inplace=True)\n",
        "raw_test_df.replace(to_replace=\"Punjab\", value=\"Punjab Kings\",inplace=True)\n",
        "raw_test_df.replace(to_replace=\"Mumbai\", value=\"Mumbai Indians\",inplace=True)\n",
        "raw_test_df.replace(to_replace=\"Royals\", value=\"Rajasthan Royals\",inplace=True)\n",
        "raw_test_df.replace(to_replace=\"Super\", value=\"Chennai Super Kings\",inplace=True)\n",
        "raw_test_df.replace(to_replace=\"Sunrisers\", value=\"Sunrisers Hyderabad\",inplace=True)\n",
        "raw_test_df.replace(to_replace=\"Kings\", value=\"Punjab Kings\",inplace=True)\n",
        "raw_test_df.replace(to_replace=\"Daredevils\", value=\"Delhi Capitals\",inplace=True)\n",
        "raw_test_df.replace(to_replace=[\"Supergiant\",\"Supergiants\"], value=\"Rising Pune Supergiants\",inplace=True)\n",
        "raw_test_df.replace(to_replace=\"Guj\", value=\"Gujarat Lions\",inplace=True)\n",
        "raw_test_df.replace(to_replace=\"Warriors\", value=\"Pune Warriors\",inplace=True)\n",
        "raw_test_df.replace(to_replace=\"Chargers\", value=\"Sunrisers Hyderabad\",inplace=True)\n",
        "raw_test_df.replace(to_replace=\"Kochi\", value=\"Kochi Tuskers Kerala\",inplace=True)"
      ],
      "metadata": {
        "id": "CbIjqj8eYUyP"
      },
      "execution_count": null,
      "outputs": []
    },
    {
      "cell_type": "code",
      "source": [
        "print(raw_test_df)"
      ],
      "metadata": {
        "id": "QmfqtLTEahaD"
      },
      "execution_count": null,
      "outputs": []
    },
    {
      "cell_type": "code",
      "source": [
        "for i in range(len(raw_test_df)):\n",
        "  if raw_test_df['toss_choice'].values[i] == 'Bat':\n",
        "    raw_test_df['toss_choice'].values[i] = 1\n",
        "  else:\n",
        "    raw_test_df['toss_choice'].values[i] = 0"
      ],
      "metadata": {
        "id": "9ryfsqWRcyDU"
      },
      "execution_count": null,
      "outputs": []
    },
    {
      "cell_type": "code",
      "source": [
        "raw_test_df.drop(columns =['place'], axis=1, inplace=True)"
      ],
      "metadata": {
        "id": "_VuPnYOVe2Xe"
      },
      "execution_count": null,
      "outputs": []
    },
    {
      "cell_type": "code",
      "source": [
        "raw_test_df"
      ],
      "metadata": {
        "id": "lL7e-z85esuG"
      },
      "execution_count": null,
      "outputs": []
    },
    {
      "cell_type": "code",
      "source": [
        "for i in range (len(raw_test_df)):\n",
        "  if raw_test_df['stadium'][i] =='Wankhede Stadium':\n",
        "    raw_test_df['stadium'][i]= 1.1\n",
        "  elif raw_test_df['stadium'][i] =='Dr DY Patil Sports Academy':\n",
        "    raw_test_df['stadium'][i] = 1.2\n",
        "  elif raw_test_df['stadium'][i] =='Brabourne Stadium':\n",
        "    raw_test_df['stadium'][i] = 1.3\n",
        "  elif raw_test_df['stadium'][i] =='Maharashtra Cricket Association Stadium':\n",
        "    raw_test_df['stadium'][i] = 1.4\n",
        "  elif raw_test_df['stadium'][i] == 'Narendra Modi Stadium':\n",
        "    raw_test_df['stadium'][i] = 1.5\n",
        "  else:\n",
        "    raw_test_df['stadium'][i] = 0"
      ],
      "metadata": {
        "id": "-6e9VZWWiyLF"
      },
      "execution_count": null,
      "outputs": []
    },
    {
      "cell_type": "code",
      "source": [
        "raw_test_df"
      ],
      "metadata": {
        "id": "o-Emj3LQjK6c"
      },
      "execution_count": null,
      "outputs": []
    },
    {
      "cell_type": "code",
      "source": [
        "test_df = raw_test_df"
      ],
      "metadata": {
        "id": "JlS7rEsijxqJ"
      },
      "execution_count": null,
      "outputs": []
    },
    {
      "cell_type": "code",
      "source": [
        "preds = np.zeros((45,1))\n",
        "\n",
        "for i in range (45):\n",
        "  test_df = raw_test_df\n",
        "\n",
        "  t1_name = test_df['team1'].iloc[i]\n",
        "  t2_name = test_df['team2'].iloc[i]\n",
        "\n",
        "  if (test_df['toss_winner'].iloc[i]==t1_name):\n",
        "    test_df['toss_winner'].iloc[i]=1\n",
        "  else:\n",
        "    test_df['toss_winner'].iloc[i]=0\n",
        "\n",
        "  test_df.replace(to_replace=\"Pune Warriors\", value=1.10,inplace=True)\n",
        "  test_df.replace(to_replace=\"Deccan Chargers\", value=1.17,inplace=True)\n",
        "  test_df.replace(to_replace=\"Kolkata Knight Riders\", value=1.12,inplace=True)\n",
        "  test_df.replace(to_replace=\"Punjab Kings\", value=1.13,inplace=True)\n",
        "  test_df.replace(to_replace=\"Mumbai Indians\", value=1.14,inplace=True)\n",
        "  test_df.replace(to_replace=\"Kochi Tuskers Kerala\", value=1.15,inplace=True)\n",
        "  test_df.replace(to_replace=\"Chennai Super Kings\", value=1.16,inplace=True)\n",
        "  test_df.replace(to_replace=\"Sunrisers Hyderabad\", value=1.17,inplace=True)\n",
        "  test_df.replace(to_replace=\"Kings XI Punjab\", value=1.13,inplace=True)\n",
        "  test_df.replace(to_replace=\"Rising Pune Supergiants\", value=1.19,inplace=True)\n",
        "  test_df.replace(to_replace=\"Rising Pune Supergiant\", value=1.19,inplace=True)\n",
        "  test_df.replace(to_replace=\"Gujarat Lions\", value=1.20,inplace=True)\n",
        "  test_df.replace(to_replace=\"Royal Challengers Bangalore\", value=1.21,inplace=True)\n",
        "  test_df.replace(to_replace=\"Delhi Capitals\", value=1.22,inplace=True)\n",
        "  test_df.replace(to_replace=\"Rajasthan Royals\", value=1.23,inplace=True)\n",
        "  test_df.replace(to_replace=\"Delhi Daredevils\", value=1.22,inplace=True)\n",
        "\n",
        "\n",
        "\n",
        "  x1_full = test_df[['toss_winner', 'toss_choice', 'stadium', 'team2']].to_numpy()\n",
        "  x2_full = test_df[['toss_winner', 'toss_choice', 'stadium', 'team1']].to_numpy()\n",
        "\n",
        "  x1 = x1_full[i]\n",
        "  x2 = x2_full[i]\n",
        "\n",
        "  if x2[0]==1:\n",
        "    x2[0]=0\n",
        "  else:\n",
        "    x2[0]=1\n",
        "\n",
        "  if t1_name==\"Mumbai Indians\":\n",
        "    w1 = w_MI\n",
        "    b1 = b_MI\n",
        "  elif t1_name==\"Kolkata Knight Riders\":\n",
        "    w1 = w_KKR\n",
        "    b1 = b_KKR\n",
        "  elif t1_name==\"Chennai Super Kings\":\n",
        "    w1 = w_CSK\n",
        "    b1 = b_CSK\n",
        "  elif t1_name==\"Royal Challengers Bangalore\":\n",
        "    w1 = w_RCB\n",
        "    b1 = b_RCB\n",
        "  elif t1_name==\"Rajasthan Royals\":\n",
        "    w1 = w_RR\n",
        "    b1 = b_RR\n",
        "  elif t1_name==\"Delhi Capitals\":\n",
        "    w1 = w_DC\n",
        "    b1 = b_DC\n",
        "  elif t1_name==\"Punjab Kings\":\n",
        "    w1 = w_PK\n",
        "    b1 = b_PK\n",
        "  elif t1_name==\"Sunrisers Hyderabad\":\n",
        "    w1 = w_SRH\n",
        "    b1 = b_SRH\n",
        "\n",
        "###\n",
        "  \n",
        "  if t2_name==\"Mumbai Indians\":\n",
        "    w2 = w_MI\n",
        "    b2 = b_MI\n",
        "  elif t2_name==\"Kolkata Knight Riders\":\n",
        "    w2 = w_KKR\n",
        "    b2 = b_KKR\n",
        "  elif t2_name==\"Chennai Super Kings\":\n",
        "    w2 = w_CSK\n",
        "    b2 = b_CSK\n",
        "  elif t2_name==\"Royal Challengers Bangalore\":\n",
        "    w2 = w_RCB\n",
        "    b2 = b_RCB\n",
        "  elif t2_name==\"Rajasthan Royals\":\n",
        "    w2 = w_RR\n",
        "    b2 = b_RR\n",
        "  elif t2_name==\"Delhi Capitals\":\n",
        "    w2 = w_DC\n",
        "    b2 = b_DC\n",
        "  elif t2_name==\"Punjab Kings\":\n",
        "    w2 = w_PK\n",
        "    b2 = b_PK\n",
        "  elif t2_name==\"Sunrisers Hyderabad\":\n",
        "    w2 = w_SRH\n",
        "    b2 = b_SRH\n",
        "\n",
        "###\n",
        "\n",
        "  y1 = np.dot(x1,w1) + b1\n",
        "  y2 = np.dot(x2,w2) + b2\n",
        "\n",
        "  if (y1>y2):\n",
        "    preds[i]=1\n",
        "  else:\n",
        "    preds[i]=2\n",
        "\n",
        "\n",
        "\n",
        "\n"
      ],
      "metadata": {
        "id": "xOSqmw21jQrP"
      },
      "execution_count": null,
      "outputs": []
    },
    {
      "cell_type": "code",
      "source": [
        "preds"
      ],
      "metadata": {
        "id": "Qh2US_sEps3W"
      },
      "execution_count": null,
      "outputs": []
    },
    {
      "cell_type": "code",
      "source": [
        "preds.shape"
      ],
      "metadata": {
        "colab": {
          "base_uri": "https://localhost:8080/"
        },
        "id": "ppyJW47K4Z3-",
        "outputId": "28bf8295-d759-44a6-e3db-805f87c0dc42"
      },
      "execution_count": null,
      "outputs": [
        {
          "output_type": "execute_result",
          "data": {
            "text/plain": [
              "(45, 1)"
            ]
          },
          "metadata": {},
          "execution_count": 133
        }
      ]
    }
  ]
}